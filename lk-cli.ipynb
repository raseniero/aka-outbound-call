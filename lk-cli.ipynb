{
 "cells": [
  {
   "cell_type": "markdown",
   "id": "e2dda3d8",
   "metadata": {},
   "source": [
    "# Manage Outbound SIP Calls\n",
    "\n"
   ]
  },
  {
   "cell_type": "code",
   "execution_count": 4,
   "id": "653f9000",
   "metadata": {},
   "outputs": [
    {
     "name": "stdout",
     "output_type": "stream",
     "text": [
      "\u001b]11;?\u001b\\\u001b[6nUsing url, api-key, api-secret from environment\n",
      "\u001b[37m┌\u001b[0m\u001b[37m─────────────────\u001b[0m\u001b[37m┬\u001b[0m\u001b[37m─────────────────────\u001b[0m\u001b[37m┬\u001b[0m\u001b[37m──────────────────────\u001b[0m\u001b[37m┬\u001b[0m\u001b[37m───────────\u001b[0m\u001b[37m┬\u001b[0m\u001b[37m──────────────\u001b[0m\u001b[37m┬\u001b[0m\u001b[37m────────────────\u001b[0m\u001b[37m┬\u001b[0m\u001b[37m────────────\u001b[0m\u001b[37m┬\u001b[0m\u001b[37m─────────\u001b[0m\u001b[37m┬\u001b[0m\u001b[37m──────────\u001b[0m\u001b[37m┐\u001b[0m\n",
      "\u001b[37m│\u001b[0m \u001b[1;37mSipTrunkID\u001b[0m      \u001b[37m│\u001b[0m \u001b[1;37mName\u001b[0m                \u001b[37m│\u001b[0m \u001b[1;37mAddress\u001b[0m              \u001b[37m│\u001b[0m \u001b[1;37mTransport\u001b[0m \u001b[37m│\u001b[0m \u001b[1;37mNumbers\u001b[0m      \u001b[37m│\u001b[0m \u001b[1;37mAuthentication\u001b[0m \u001b[37m│\u001b[0m \u001b[1;37mEncryption\u001b[0m \u001b[37m│\u001b[0m \u001b[1;37mHeaders\u001b[0m \u001b[37m│\u001b[0m \u001b[1;37mMetadata\u001b[0m \u001b[37m│\u001b[0m\n",
      "\u001b[37m├\u001b[0m\u001b[37m─────────────────\u001b[0m\u001b[37m┼\u001b[0m\u001b[37m─────────────────────\u001b[0m\u001b[37m┼\u001b[0m\u001b[37m──────────────────────\u001b[0m\u001b[37m┼\u001b[0m\u001b[37m───────────\u001b[0m\u001b[37m┼\u001b[0m\u001b[37m──────────────\u001b[0m\u001b[37m┼\u001b[0m\u001b[37m────────────────\u001b[0m\u001b[37m┼\u001b[0m\u001b[37m────────────\u001b[0m\u001b[37m┼\u001b[0m\u001b[37m─────────\u001b[0m\u001b[37m┼\u001b[0m\u001b[37m──────────\u001b[0m\u001b[37m┤\u001b[0m\n",
      "\u001b[37m│\u001b[0m \u001b[37mST_UsdXMNmBr3AL\u001b[0m \u001b[37m│\u001b[0m \u001b[37mMKIA outbound trunk\u001b[0m \u001b[37m│\u001b[0m \u001b[37mmkia.pstn.twilio.com\u001b[0m \u001b[37m│\u001b[0m \u001b[37mAUTO\u001b[0m      \u001b[37m│\u001b[0m \u001b[37m+19284920664\u001b[0m \u001b[37m│\u001b[0m \u001b[37mramasen / ****\u001b[0m \u001b[37m│\u001b[0m \u001b[37mDISABLE\u001b[0m    \u001b[37m│\u001b[0m \u001b[37m\u001b[0m        \u001b[37m│\u001b[0m \u001b[37m\u001b[0m         \u001b[37m│\u001b[0m\n",
      "\u001b[37m└\u001b[0m\u001b[37m─────────────────\u001b[0m\u001b[37m┴\u001b[0m\u001b[37m─────────────────────\u001b[0m\u001b[37m┴\u001b[0m\u001b[37m──────────────────────\u001b[0m\u001b[37m┴\u001b[0m\u001b[37m───────────\u001b[0m\u001b[37m┴\u001b[0m\u001b[37m──────────────\u001b[0m\u001b[37m┴\u001b[0m\u001b[37m────────────────\u001b[0m\u001b[37m┴\u001b[0m\u001b[37m────────────\u001b[0m\u001b[37m┴\u001b[0m\u001b[37m─────────\u001b[0m\u001b[37m┴\u001b[0m\u001b[37m──────────\u001b[0m\u001b[37m┘\u001b[0m\n"
     ]
    }
   ],
   "source": [
    "# List Outbound SIP Calls\n",
    "!lk sip outbound list"
   ]
  },
  {
   "cell_type": "code",
   "execution_count": null,
   "id": "b0700a85",
   "metadata": {},
   "outputs": [],
   "source": [
    "# Make an Outbound Call\n",
    "!lk sip participant create sip-participant.json"
   ]
  },
  {
   "cell_type": "code",
   "execution_count": null,
   "id": "787fea64",
   "metadata": {},
   "outputs": [],
   "source": [
    "# Make an Outbound Call\n",
    "!lk dispatch create \\\n",
    "  --new-room \\\n",
    "  --agent-name outbound-caller \\\n",
    "  --metadata '{\"phone_number\": \"+12135097822\",\"transfer_to\": \"+18084441837\"}'"
   ]
  }
 ],
 "metadata": {
  "kernelspec": {
   "display_name": ".venv",
   "language": "python",
   "name": "python3"
  },
  "language_info": {
   "codemirror_mode": {
    "name": "ipython",
    "version": 3
   },
   "file_extension": ".py",
   "mimetype": "text/x-python",
   "name": "python",
   "nbconvert_exporter": "python",
   "pygments_lexer": "ipython3",
   "version": "3.13.3"
  }
 },
 "nbformat": 4,
 "nbformat_minor": 5
}
