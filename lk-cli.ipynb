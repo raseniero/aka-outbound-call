{
 "cells": [
  {
   "cell_type": "markdown",
   "id": "e2dda3d8",
   "metadata": {},
   "source": [
    "# Manage Outbound SIP Calls\n",
    "\n"
   ]
  },
  {
   "cell_type": "code",
   "execution_count": null,
   "id": "653f9000",
   "metadata": {},
   "outputs": [],
   "source": [
    "# List Outbound SIP Calls\n",
    "!lk sip outbound list"
   ]
  },
  {
   "cell_type": "code",
   "execution_count": null,
   "id": "b0700a85",
   "metadata": {},
   "outputs": [],
   "source": [
    "# Make an Outbound Call\n",
    "!lk sip participant create sip-participant.json"
   ]
  },
  {
   "cell_type": "code",
   "execution_count": null,
   "id": "787fea64",
   "metadata": {},
   "outputs": [],
   "source": [
    "# Make an Outbound Call\n",
    "!lk dispatch create \\\n",
    "  --new-room \\\n",
    "  --agent-name outbound-caller \\\n",
    "  --metadata '{\"phone_number\": \"+12135097822\",\"transfer_to\": \"+18084441837\"}'"
   ]
  }
 ],
 "metadata": {
  "kernelspec": {
   "display_name": ".venv",
   "language": "python",
   "name": "python3"
  },
  "language_info": {
   "codemirror_mode": {
    "name": "ipython",
    "version": 3
   },
   "file_extension": ".py",
   "mimetype": "text/x-python",
   "name": "python",
   "nbconvert_exporter": "python",
   "pygments_lexer": "ipython3",
   "version": "3.13.3"
  }
 },
 "nbformat": 4,
 "nbformat_minor": 5
}
